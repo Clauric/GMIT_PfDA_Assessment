{
 "cells": [
  {
   "cell_type": "markdown",
   "metadata": {},
   "source": [
    "# Numpy Assignment\n",
    "\n",
    "## Module: Programming for Data Analytics\n",
    "\n",
    "#### Student Name: Mark Biggar\n",
    "#### Student number: G00376334\n",
    "\n",
    "## Assignment: \n",
    "The following assignment concerns the numpy.random package in Python. The specific tasks are:\n",
    "\n",
    "1. Explain the overall purpose of the package.\n",
    "2. Explain the use of the “Simple random data” and “Permutations” functions.\n",
    "3. Explain the use and purpose of at least five “Distributions” functions.\n",
    "4. Explain the use of seeds in generating pseudorandom numbers.\n",
    "\n",
    "#### Notes:\n",
    "\n",
    "Citations in this document do not follow the standard Harvard referencing style. While some citations may be given for items that are unusual, or where statistics are taken directly from sources, the majority of the information is widely available from different sources. As such, completing academic citations would render this article impractical to read.\n",
    "\n",
    "## 1. Explain the overall purpose of the numpy.random package.\n",
    "\n",
    "sdfsdfvesiufvnnefvuneoiv\n",
    "\n",
    "## 2. Explain the use of the \"Simple random data\" and \"Permutations\" functions\n",
    "\n",
    "### Simple random data\n",
    "\n",
    "### Permutations\n",
    "\n",
    "A permutation is the all the possible arrangements of a set of numbers or objects, such that no two arrangements are the same. Numpy.random has two methods of creating permutations, numpy.random.shuffle and numpy.random.permutations. Both are alike in that they can shuffle the inputs into different orders. They also can take arrays to shuffle, and if the array is 2D, they will shuffle only along the first axis.\n",
    "\n",
    "However, there are a number of differences between the two permutation options. Numpy.random.shuffle can take lists as well as arrays. When it runs, it rearranges the array before returning the values. Numpy.random.permutation can take an integer as well as arrays. Unlike numpy.random.shuffle, .permutation creates a copy of the input, and shuffles the copy. This means that the original input, such as the array, will stay the same for each time it is run. Additionally, the shuffle option will display the returned array with commas, while the permutation option will display the returned array without commas.\n",
    "\n",
    "#### Example\n",
    "\n",
    "For example if we have the array of all numbers between 0 and 10 inclusive passed to both permutation options, we would get two outputs. If we also passed a range off values less than 11 into the permutations option, we would get a third output. The results will be that both approaches will generate 3 output arrays, of the same size, in different orders. "
   ]
  },
  {
   "cell_type": "code",
   "execution_count": 5,
   "metadata": {},
   "outputs": [
    {
     "name": "stdout",
     "output_type": "stream",
     "text": [
      "Using numpy.random shuffle and permutation to rearrange the numbers 0 - 10 (inclusive)\n",
      "\n",
      "Shuffle: [2, 1, 10, 8, 7, 3, 6, 9, 0, 4, 5]\n",
      "Permutation (array): [ 3  9  4  6  5  0  1 10  7  8  2]\n",
      "Permutation (range): [ 7  0  4  5 10  8  3  9  6  1  2]\n"
     ]
    }
   ],
   "source": [
    "# Numpy.random shuffle and permutation\n",
    "import numpy as np\n",
    "\n",
    "# set seed to 22\n",
    "np.random.seed(22)\n",
    "\n",
    "# print activity\n",
    "print(\"Using numpy.random shuffle and permutation to rearrange the numbers 0 - 10 (inclusive)\")\n",
    "print()\n",
    "\n",
    "# arrays\n",
    "arr_shuff = [0, 1, 2, 3, 4, 5, 6, 7, 8, 9, 10]\n",
    "arr_perm = [0, 1, 2, 3, 4, 5, 6, 7, 8, 9, 10]\n",
    "\n",
    "# shuffle 1\n",
    "np.random.shuffle(arr_shuff)\n",
    "print(\"Shuffle:\", arr_shuff)\n",
    "\n",
    "# permutation 1\n",
    "x = np.random.permutation(arr_perm)\n",
    "print(\"Permutation (array):\", x)\n",
    "\n",
    "#permutation 2\n",
    "x = np.random.permutation(np.arange(11))\n",
    "print(\"Permutation (range):\", x)"
   ]
  },
  {
   "cell_type": "markdown",
   "metadata": {},
   "source": [
    "## 3. Explain the use and purpose of at least 5 \"Distribution\" functions\n",
    "\n",
    "The purpose of distribution functions, in general, is to produce a set of results, based on a particular set of parameters that are predefined. At its most basic, distribution functions are used to calculate the statistical probability of an event occurring, based on statistical models such as binomial, Dirichlet, log, normal, or uniform distribution patterns. \n",
    "\n",
    "The statistical probability of an event, or set of events occurring, is of great use in various industries and activities through the world. The most obvious is the gambling industry, where odds are the representation of the statistical probability of the event occurring. The shorter the odds, the more likely an event is to occur (Note: that unlike in pure statistical probability, where the sum of all events must be equal to 1, the odds offered by gambling companies are generally weighted slightly, to allow for a house margin, and the expected volume of betting on the favourites). \n",
    "\n",
    "Other areas where statistical probability is widely used are risk (financial, insurance, credit, etc.), engineering, health care (epidemiology, pharmacology, etc.), manufacturing (logistics, supply and demand forecasting, etc.), and government policy, among others.\n",
    "\n",
    "It is intended to review the 5 chosen distribution functions using the throw of 2 dice, and model the distribution functions over 100,000 iterations. This modeling is known as Monte Carlo simulations, and with such a large size, allow dor the removal of skewness caused by outlier results.\n",
    "\n",
    "The selected distributions are:\n",
    "* *np.random.normal*\n",
    "* *np.random.binomial*\n",
    "* *np.random.poisson*\n",
    "* *np.random.zipf*\n",
    "* *np.random.triangular*\n",
    "\n",
    "### Normal distribution:\n",
    "\n",
    "The normal distribution is a probability function that describes the pattern of distribution of a variable’s values. It is unique in that it is symmetrical around a mean, that also the mode and median of the possible values. The possible values of the variable cluster around this mean, with 68.2% of all results within 1 standard deviation of either side of the mean, and 95% of all values with 2 standard deviations of the mean. Additionally, due to the symmetry, and the known properties of a normal distribution, there exists tables (z-tables), which can be used to calculate the standard deviation or confidence interval of any value returned, based on the mean.\n",
    "\n",
    "It also has the property that all values within the range negative infinity to positive infinity are possible (i.e. continuous variable), although the further away from the mean the less likely the value. For most practical purposes, the lower bound of the range is normally zero, but not always.\n",
    "\n",
    "Numpy.random.normal is the method of generating random variables which are normally distributed. The function takes the variables of:\n",
    "\n",
    "* *loc*: mu (μ) or the mean/mode/median of the distribution. This is normally a float, or decimal number, although it can be an array.\n",
    "* *scale*:s sigma (σ) or the standard deviation of the distribution. This is normally a float, or decimal number, although it can be an array.\n",
    "* *size*:shape of the output, being either a single value, a 2D array, or a 3D array. By default, it returns a single value.\n",
    "\n",
    "The return of the normal distribution is determined by the parameters passed into the function.\n",
    "\n",
    "#### Application\n",
    "\n",
    "As normal distributions are found in various probabilities, such as heights of persons, or stock market returns, IQ levels, and income levels in a given economy. This is especially important in such activities like risk analysis, where potential losses can be estimated.\n",
    "\n",
    "#### Example:\n",
    "\n",
    "For example, if a stock market has an average return over a given year is 5%, the standard deviation is 2%, it is possible to estimate the potential loss to a portfolio for the year. Any return less than 0 can be determined, and using the z-tables, the risk can be determined. This is the basis of the concept of value-at-risk."
   ]
  },
  {
   "cell_type": "code",
   "execution_count": 2,
   "metadata": {},
   "outputs": [
    {
     "data": {
      "image/png": "[encoded data removed]",
      "text/plain": [
       "<Figure size 432x288 with 1 Axes>"
      ]
     },
     "metadata": {
      "needs_background": "light"
     },
     "output_type": "display_data"
    }
   ],
   "source": [
    "# Normal distribution for example\n",
    "\n",
    "import numpy as np\n",
    "import matplotlib.pyplot as plt\n",
    "\n",
    "# set random seed to 22\n",
    "np.random.seed(22)\n",
    "\n",
    "# mu or mean for the return for a given year is 5%, or 0.05.\n",
    "mu = 0.05\n",
    "\n",
    "# sigma or standard deviation for the return for a given year is 2%, or 0.02.\n",
    "sigma = 0.02\n",
    "\n",
    "# normal function, generating an 1 x 10,000 array\n",
    "x = np.random.normal(mu, sigma, 10000)\n",
    "\n",
    "# plotting the array on a histogram\n",
    "# color set to black, labelled\n",
    "plt.hist(x, color=\"black\", edgecolor=\"red\", label=\"Normal distribution\")\n",
    "\n",
    "# show legend in plot\n",
    "plt.legend()\n",
    "\n",
    "# show girdlines on x axis\n",
    "plt.grid(b=True, axis=\"x\")\n",
    "\n",
    "# show title and axial labels\n",
    "plt.title(\"Distribution fo forecasted returns on the stock market\")\n",
    "plt.xlabel(\"% return\")\n",
    "plt.ylabel(\"Times per 10000 trials\")\n",
    "\n",
    "# show plot\n",
    "plt.show()"
   ]
  },
  {
   "cell_type": "markdown",
   "metadata": {},
   "source": [
    "### numpy.random.binomial\n",
    "\n",
    "A binomial probability can be viewed as the probability associated with whether an event is a success or failure (hence the “bi” in binomial). Binomial probabilities can be applied to multiple events in a row, as long the probabilities do not change from one event to the next (i.e. no memory in the events). If the results of a previous event influence the results of a subsequent event, then the results are considered hypergeometric, and not binomial.\n",
    "\n",
    "The binomial probabilities form discrete returns which are often represented using a histogram. However, it is not uncommon to see a binomial distribution being represented by a curved chart. The curve connects the top of the stems, to give the impression of a continuous plot, but this in not normally viewed as correct.\n",
    "\n",
    "Unlike the normal distribution, the mean, mode, and median, as well as the standard deviation can differ considerably. Using  the general formula of a binomial distribution as:\n",
    "\n",
    "  (N!/(n!(N-n)!))p<sup>n</sup>q<sup>(N-n)</sup> \n",
    "\n",
    "Where:\n",
    "\n",
    "* N = the number of trials/events being run.\n",
    "* n = the trial being tested.\n",
    "* p = the probability of success.\n",
    "* q = the probability of failure (often represented as 1 – p).\n",
    "\n",
    "The mean (mu) is then calculated as N x p,  and the standard deviation (sigma) is given as . There are 2 modes, depending on the value of p. The median is more difficult to determine, due to the values of p and N, but normally lies near to the value of the mean.\n",
    "\n",
    "The numpy.random.binomial distribution is made up of 3 parameters:\n",
    "\n",
    "* *n*: the trial being tested. This can be a float, or integer, but floats will be truncated to integers.\n",
    "* *p*: the probability of success, represented as a float between 0 and 1, inclusive.\n",
    "* *size*: the number of times the event is tested.\n",
    "\n",
    "The values returned can be a single value, if n and p are both single values, else an array will be returned.\n",
    "\n",
    "#### Application\n",
    "\n",
    "Binomial probabilities can be used to calculate a large number of scenarios. The range of scenarios is limited only by the ability to define the success or failure of an event. These scenarios are often applied to such events as coin tosses, gambling, as well as decision trees in for machine learning, and business applications.\n",
    "\n",
    "#### Example:\n",
    "\n",
    "For example, if a person were to have an evenly balance coin, that has a probability of 48% of landing on heads, it is possible to predict how many times it would land heads-up, in 100 flips, being tested 1000 times. Using np.random.binomial, we would assign N=100, p=0.48, and size=1000. (Aside: the probability of a coin landing head-up or down is not 50/50, due to the fact that there is an edge on most coins. This will reduce the probability to less than 50%. In this example, the reduction is emphsised).\n",
    "\n",
    "This would generate the probability as follows:"
   ]
  },
  {
   "cell_type": "code",
   "execution_count": 6,
   "metadata": {},
   "outputs": [
    {
     "data": {
      "image/png": "[encoded data removed]",
      "text/plain": [
       "<Figure size 432x288 with 1 Axes>"
      ]
     },
     "metadata": {
      "needs_background": "light"
     },
     "output_type": "display_data"
    }
   ],
   "source": [
    "# Binomial distribution example\n",
    "\n",
    "import numpy as np\n",
    "import matplotlib.pyplot as plt\n",
    "\n",
    "# set random seed to 22\n",
    "np.random.seed(22)\n",
    "\n",
    "# number of trials\n",
    "n = 100\n",
    "\n",
    "# probability\n",
    "p = 0.48\n",
    "\n",
    "# number of trials\n",
    "s = 1000\n",
    "\n",
    "# run the binmomial distribution\n",
    "x = np.random.binomial(n,p, size=s)\n",
    "\n",
    "# plot for the binomial \n",
    "plt.hist(x, label=\"Binomial distribution\", color=\"red\", edgecolor=\"black\")\n",
    "\n",
    "# show legend in plot\n",
    "plt.legend()\n",
    "\n",
    "# show girdlines on y axis\n",
    "plt.grid(b=True, axis=\"y\")\n",
    "\n",
    "# plot ticks from 0 - 100, in increments of 5 for x axis\n",
    "# plot ticks from 0 - 250, in increments of 50 for y axis\n",
    "plt.xticks(np.arange(start=0, stop=101, step=5))\n",
    "plt.yticks(np.arange(start=0, stop=300, step=50))\n",
    "\n",
    "# show title and axial labels\n",
    "plt.title(\"Distribution of coin flips resulting in head\")\n",
    "plt.xlabel(\"Heads per 100 flips\")\n",
    "plt.ylabel(\"Times per 1000 trials\")\n",
    "\n",
    "# show plot\n",
    "plt.show()"
   ]
  },
  {
   "cell_type": "markdown",
   "metadata": {},
   "source": [
    "### Poisson Distribution\n",
    "\n",
    "The Poisson distribution is a specialised version of the binomial distribution. In binomial distributions, N number of trials are run, with p probability of success, with each event being a separate trial. In Poisson distribution, the number of trial will increase to infinity (i.e. continuous) within a given period of time, while the probability will drop to near 0 (but not quite 0). However, each event in a Poisson distribution is still considered an independent event. Like all probability distributions, the sum of the probabilities will always equal 0.\n",
    "\n",
    "Additionally, the plot of curves/histograms differ, in the binomial distributions are biparametric (having two parameters n, and p), while Poisson distributions are unimetric, with the parameter of lambda. The mean and variance of a Poisson distribution are the same. This mean/variance is the value of lambda. \n",
    "\n",
    "Np.random.poisson is the function used to simulate Poisson distribution in python. The function has only two parameters, namely:\n",
    "* *lam*: lambda, which can take tuples or floats, and should always be ≥ 0.\n",
    "* *size*: the size of the output shape. If lambda is a scalar value, then a single value is returned. If not an array of is returned, based on the size of the array entered for lambda.\n",
    "\n",
    "#### Application\n",
    "\n",
    "Poisson distribution can be used a variety of places, and situations. These can include how many typos there are per page in a manuscript, the statistical analysis (including the distribution of German V-1 flying bombs hitting areas of southern London) (Letkowski, 2012), hospital admission rates, etc. It has also been applied to the forecasting of both the number of home runs hit during a Major League Baseball season, and to predicting the results of the English Premier League football matches.\n",
    "\n",
    "#### Example\n",
    "\n",
    "Freymiller (2017) has suggested that it is possible to predict the results of a football matches using Poisson distribution. If the relative strength of both teams in a match is known, or can be calculated, it is possible to simulate the results of the match, and the correct score, using Poisson. In the example given, if Team 1 have a lambda of 2.49, and Team 2 have a lambda of 0.66, it should be possible to forecast the number of goals each team should score in the match.\n"
   ]
  },
  {
   "cell_type": "code",
   "execution_count": 4,
   "metadata": {},
   "outputs": [
    {
     "data": {
      "image/png": "[encoded data removed]",
      "text/plain": [
       "<Figure size 432x288 with 1 Axes>"
      ]
     },
     "metadata": {
      "needs_background": "light"
     },
     "output_type": "display_data"
    }
   ],
   "source": [
    "# Numpy.random.poisson\n",
    "import numpy as np\n",
    "import matplotlib.pyplot as plt\n",
    "\n",
    "# set seed to 22\n",
    "np.random.seed(22)\n",
    "\n",
    "# size\n",
    "s = 10000\n",
    "\n",
    "# Team 1 Poisson probability with lambda = 2.49\n",
    "x = np.random.poisson(2.49, s)\n",
    "\n",
    "# set random seed to 22\n",
    "np.random.seed(22)\n",
    "\n",
    "# Team 2 Poisson probability with lamda = 0.66\n",
    "y = np.random.poisson(0.66, s)\n",
    "\n",
    "# plot hisorgram for Team 1\n",
    "plt.hist(x, label=\"Team 1\", color=\"r\", edgecolor=\"black\", bins=np.arange(8.0)-0.5, rwidth=0.75)\n",
    "\n",
    "# plot histogram for Team 2\n",
    "plt.hist(y, label=\"Team 2\", color=\"b\", edgecolor=\"yellow\", bins=np.arange(8.0)-0.5, rwidth=0.5)\n",
    "\n",
    "# Show legend on historgram\n",
    "plt.legend()\n",
    "\n",
    "# Show major gridlines for y axis\n",
    "plt.grid(b=True,axis=\"y\")\n",
    "\n",
    "# show title and axial labels\n",
    "plt.title(\"Forecasted distribution of goals per match\")\n",
    "plt.xlabel(\"Goals\")\n",
    "plt.ylabel(\"Times per 10000 matches\")\n",
    "\n",
    "# Force plot\n",
    "plt.show()"
   ]
  },
  {
   "cell_type": "markdown",
   "metadata": {},
   "source": [
    "### Zipf’s Distribution\n",
    "\n",
    "Zipf’s Law is a law that suggests that the most frequently used word in a language is twice as often as the second most frequently used word in the language, which is used twice as frequently as the third most frequency used word, and so on. The law, as originally popularized by George K. Zipf, although he did not claim to have discovered it (Powers, 1998). While the law is not perfect, and a number of alterations have been suggested, it has found to be highly correlated across various languages. Additionally, Zipf’s law seems to hold for such items as city populations, income distributions, company size, and website requests. \n",
    "\n",
    "When plotted, the data from the element/event with the highest frequency is plotted in the left most point on the graph, with the rest of the elements being plotted left to right in descending order of frequency. The log of a Zipf’s distribution, when plotted, is a downward slopping line, going from the highest frequency value on the y-axis, to the lowest frequency values on the x-axis.\n",
    "\n",
    "In Numpy, Zipf’s distribution is undertaken by np.random.zipf. This function takes two parameters, namely:\n",
    "* *a*: the distribution parameter, which can be a float, or an array, and should be greater than 1.\n",
    "* *size*: the size of the output. Can be a tuple or int.\n",
    "\n",
    "#### Application\n",
    "\n",
    "Zipf’s Law, while seemingly quite innocuous, and not really relevant to statistics, is often used in machine learning, and especially machine learning. As such, it can be used for analyzing text, and decoding, or anticipating the next word in the given text. Other applications including data compression, signal interpretation, and sentiment analysis on social media (Kim, 2017).\n",
    "\n",
    "#### Example\n",
    "\n",
    "Using np.random.zipf, for a sample size of 100, it is possible to plot the frequency of each element. Based on Zipf’s law, and the way that np.randon.zipf works, the number 1 should always have the highest frequency. Each subsequent number, (i.e. 2, 3, 4, etc.) should have a frquency of approximately 50% of the frequency of the preceding number."
   ]
  },
  {
   "cell_type": "code",
   "execution_count": 3,
   "metadata": {},
   "outputs": [
    {
     "data": {
      "image/png": "[encoded data removed]",
      "text/plain": [
       "<Figure size 432x288 with 1 Axes>"
      ]
     },
     "metadata": {
      "needs_background": "light"
     },
     "output_type": "display_data"
    }
   ],
   "source": [
    "# Zipf's Law distributiom\n",
    "import numpy as np\n",
    "import matplotlib.pyplot as plt\n",
    "from collections import Counter\n",
    "\n",
    "# Set random seed = 22\n",
    "np.random.seed(22)\n",
    "\n",
    "# Set the distibution parameter to 2\n",
    "a = 2\n",
    "\n",
    "# Set the size to 100\n",
    "s = 100\n",
    "\n",
    "# Create Zipf's Law distribution using a and s, and random seed = 22\n",
    "x = np.random.zipf(a,s)\n",
    "\n",
    "# Count the frequency of each element in the array x\n",
    "y = Counter(x)\n",
    "\n",
    "# Return the frequency for the number 1 and round to the nearest 20\n",
    "z = y[1]\n",
    "z -= z % -20\n",
    "\n",
    "# Plot the histogram for the distribution and number of bins  equal to the highest value in x\n",
    "plt.hist(x, bins=np.amax(x), label=\"Zipf's Distribution\", color=\"red\", edgecolor=\"black\")\n",
    "\n",
    "# Set the range on the x-axis to the max value in x +1\n",
    "plt.xlim(0,np.amax(x)+1)\n",
    "\n",
    "# Set the range on the y-axis to z + 10\n",
    "plt.ylim(0, z+10)\n",
    "\n",
    "# Set the ticks on the x-axis, and rotate text 90 degrees\n",
    "plt.xticks(np.arange(start=1, stop=np.amax(x)+1), rotation=90)\n",
    "\n",
    "# Set the ticks on the y-axis, and define steps\n",
    "plt.yticks(np.arange(start=0, stop=z+20, step=10))\n",
    "\n",
    "# Plot title, descriptions of x and y axes, y-axis gridlines, and legend\n",
    "plt.title(\"Zipf's Law distribution for random numbers\")\n",
    "plt.xlabel(\"Elements of distribution\")\n",
    "plt.ylabel(\"Frequency\")\n",
    "plt.grid(True,axis=\"y\")\n",
    "plt.legend()\n",
    "\n",
    "# Force the plot\n",
    "plt.show()"
   ]
  },
  {
   "cell_type": "markdown",
   "metadata": {},
   "source": [
    "### Triangular Distribution\n",
    "\n",
    "Triangular distribution is a continuous distribution that is often used instead of the uniform distribution. It has been likened to the lognormal distribution as well as the normal distribution. However, unlike these two distributions, the two end points (upper and lower limits) are known, and are finite (i.e. they do not trail off to infinity, with potential outliers). Additionally, the graph plotted by the triangular distribution can be skewed to either side. This means that the mean and mode are not necessarily at the same point. As such the mean is calculated by the sum of the mode, lower limit, and upper limit, divided by three. \n",
    "\n",
    "When plotted, as a probability density function, the peak of the triangle is the point of the highest probability, with the probability decreasing on either side towards 0. Alternatively, the frequency of the event occurring can be plotted on the y-axis, instead of the probability. If the number of trials run is known, then these frequencies can be translated into probability by dividing the frequency by the trial size.\n",
    "\n",
    "In Numpy, the np.random.triangular function takes 4 inputs:\n",
    "* *left*: the value for the lower bound of the function.\n",
    "* *mode*: the value for the mode of the function.\n",
    "* *right*: the value for the upper value of the function.\n",
    "\n",
    "Each of these inputs can be arrays or floats.\n",
    "\n",
    "The last function is:\n",
    "* *size*: which is the output size of the function. It can be an integer, or tuple.\n",
    "The return from the function can either be an array or a scalar value.\n",
    "\n",
    "#### Application\n",
    "\n",
    "Triangular distributions are often used in Monte Carlo simulations, in place of the normal distribution. The scenarios where this distribution would be used are when a best guess or gut values are known for the input values. This is often based on prior experience, or other experiments having already been run. As such, this distribution can be used in a lot of fields, from risk analysis, to sales forecasting, voting, etc.\n",
    "\n",
    "#### Example\n",
    "\n",
    "An area that the triangular distribution can be used for is the roll of two dice. IT can be shown by simple logic that the average (mu) sum of 2 dice being thrown is 7, with a lower bound of 2 (1+1), and an upper bound of 12 (6+6). Using these values, and a sample size of 100,000, it is possible to plot the number of times the numbers 2 – 12 will appear on two thrown dice. The probability is simply the frequency divided by 100,000. \n"
   ]
  },
  {
   "cell_type": "code",
   "execution_count": 8,
   "metadata": {},
   "outputs": [
    {
     "data": {
      "image/png": "[encoded data removed]",
      "text/plain": [
       "<Figure size 432x288 with 1 Axes>"
      ]
     },
     "metadata": {
      "needs_background": "light"
     },
     "output_type": "display_data"
    }
   ],
   "source": [
    "# Triangular distributiom\n",
    "import numpy as np\n",
    "import matplotlib.pyplot as plt\n",
    "from collections import Counter\n",
    "\n",
    "# Set the size to 10000\n",
    "s = 100000\n",
    "\n",
    "# Create a triangular distribution using a min value of 2, mu of 7, and max of 12\n",
    "np.random.seed(22)\n",
    "x = np.random.triangular(2, 7, 12, s)\n",
    "\n",
    "# Plot the histogram for the distribution and number of bins  equal to the highest value in x\n",
    "plt.hist(x, bins=np.arange(14)-0.5, label=\"Triangular distribution\", color=\"g\", edgecolor=\"black\")\n",
    "\n",
    "# Set the range on the x-axis to the max value in x +1\n",
    "plt.xlim(0,13)\n",
    "\n",
    "# Set the ticks on the x-axis, and rotate text 90 degrees\n",
    "plt.xticks(np.arange(start=2,stop=13,step=1), rotation=90)\n",
    "\n",
    "# Plot title, descriptions of x and y axes, y-axis gridlines, and legend\n",
    "plt.title(\"Triangular distribution for two thrown dice\")\n",
    "plt.xlabel(\"Sum of two dice being thrown\")\n",
    "plt.ylabel(\"Frequency of sum of the two dice\")\n",
    "plt.grid(True,axis=\"y\")\n",
    "plt.legend()\n",
    "\n",
    "# Force the plot\n",
    "plt.show()"
   ]
  },
  {
   "cell_type": "markdown",
   "metadata": {},
   "source": [
    "## 4. Explain the use of seeds in generating pseudorandom numbers.\n",
    "\n",
    "In order to explain the use of seeds in generating pseudorandom numbers, it is necessary to define what a pseudorandom number is. As the pseudo- prefix suggests, a pseudorandom number is trying to mimic or imitate a random number. On computers, this is done through the use of algorithms, often with a time based variable. This produces seemingly random numbers, based on the same algorithm. This is visible by running the same script twice, without controlling for any initial conditions, as below:"
   ]
  },
  {
   "cell_type": "code",
   "execution_count": 2,
   "metadata": {},
   "outputs": [
    {
     "name": "stdout",
     "output_type": "stream",
     "text": [
      "X array: [31 44 46 35 26 24 23 23  1 39]\n",
      "Y array: [41 42  9  9 36 29 29 47 48 12]\n"
     ]
    }
   ],
   "source": [
    "# Random numbers being generated without control for conditions or variables\n",
    "\n",
    "import numpy as np\n",
    "\n",
    "# Using numpy.random.randint to generate a set of 10 numbers from 50\n",
    "x = np.random.randint(0,50,size=10)\n",
    "print(\"X array:\",x)\n",
    "\n",
    "# Using numpy.random.randint to generate a set of 10 numbers from 50\n",
    "y = np.random.randint(0,50,size=10)\n",
    "print(\"Y array:\",y)"
   ]
  },
  {
   "cell_type": "markdown",
   "metadata": {},
   "source": [
    "As can be seen, the two sets of numbers seem completely random, without any discernable pattern (at least not discernable to the human eye). However, Haahr (2019) notes that pseudorandom *”numbers appear random, but they are predetermined”*. This predetermination is derived from the algorithm used to create them. Machines, and programs that use these algorithms are known as Pseudo-Random Number Generators (PRNG) (*ibid*). It should be noted that it is possible to have True-Random Number Generators (TRNG) that can be used to generator random numbers using computers. However, these normally require some form of external random key, often based on physical properties of nature, such as the rate of background ionization in the atmosphere, or the rate of decay/alpha wave production of radioactive isotopes (*ibid*). While this allows for truly random numbers, it also is not very inefficient. PRNGs, while not truly random numbers, are generally far more efficient. Additionally, using PRNGs allows for the results to be reproducible (with the correct seeding), which is important in testing and retesting results. \n",
    "\n",
    "Based on the above example, it is understandable why it may be necessary to seed, or set starting conditions on an algorithm. The seed is a method of predetermining the results of a request for random data. For example, using np.random.seed(22), as in most of the examples above, means that one of the initial conditions in the algorithm will always be 22. This seeding means that if another person runs the same code, with the same seed, they will always get the same answers (i.e. reproductability). See below for the same script being run, with a seed of 22."
   ]
  },
  {
   "cell_type": "code",
   "execution_count": 3,
   "metadata": {},
   "outputs": [
    {
     "name": "stdout",
     "output_type": "stream",
     "text": [
      "[ 4 44  0 36 38 43 20  8 31 36]\n",
      "[ 4 44  0 36 38 43 20  8 31 36]\n"
     ]
    }
   ],
   "source": [
    "# Random numbers being generated without control for conditions or variables\n",
    "\n",
    "import numpy as np\n",
    "\n",
    "np.random.seed(22)\n",
    "# Using numpy.random.randint to generate a set of 10 numbers from 50\n",
    "x = np.random.randint(0,50,size=10)\n",
    "print(x)\n",
    "\n",
    "# Using numpy.random.randint to generate a set of 10 numbers from 50\n",
    "np.random.seed(22)\n",
    "y = np.random.randint(0,50,size=10)\n",
    "print(y)"
   ]
  },
  {
   "cell_type": "markdown",
   "metadata": {},
   "source": [
    "The method that most algorithms use for the introduction of seeds is as follows. Take the seed of 22, as used in most of the examples. This seed is then multiplied by a large number (set by the algorithm). From this resulting product, the modulo of the product is calculated. This number is then returned, and is also used as the basis for calculating the new random number. This pattern is repeated until the required number of returns is produced (John1024, 2014). As the algorithm follows a set formula, every time that a seed of 22 is used with that particular algorithm, the same results will be returned.\n",
    "\n",
    "The numpy random generator has 4 different methods of creating seeds. These are\n",
    "* .RandomState()\n",
    "* .seed()\n",
    "* get_state()\n",
    "* .set_state()\n",
    "\n",
    "Each of these has different methods of generating random numbers, based on the seed introduced. The seeds can be a number (all), an array (RandomState, seed), ndarray, tuple, string, or float (get_state, set_state). For RandomState(none), the seed will be driven by the machines own random number generator. "
   ]
  },
  {
   "cell_type": "markdown",
   "metadata": {},
   "source": [
    "## Bibliography\n",
    "* HADRIENJ, 2019. Deep Learning Book Series 3.1 to 3.3 Probability Mass and Density Functions. [Online] Available at: https://hadrienj.github.io/posts/Probability-Mass-and-Density-Functions/ [Accessed 23 October 2019].\n",
    "* Holton, G. A., 2014. Value-at-Risk. 2nd ed. s.l.:s.n.\n",
    "* Li, W., 2016. Value at Risk (VaR) and its calculations: an overview. [Online] Available at: http://web.mst.edu/~huwen/teaching_VaR_Weiqian_Li.pdf [Accessed 1 November 2019].\n",
    "* Oathak, M., 2018. Probability Distributions in Python. [Online] Available at: https://www.datacamp.com/community/tutorials/probability-distributions-python [Accessed 23 October 2019].\n",
    "* Sharp Sight, 2019. How to numpy random choice. [Online] Available at: https://www.sharpsightlabs.com/blog/numpy-random-choice [Accessed 1 November 2019]."
   ]
  }
 ],
 "metadata": {
  "kernelspec": {
   "display_name": "Python 3",
   "language": "python",
   "name": "python3"
  },
  "language_info": {
   "codemirror_mode": {
    "name": "ipython",
    "version": 3
   },
   "file_extension": ".py",
   "mimetype": "text/x-python",
   "name": "python",
   "nbconvert_exporter": "python",
   "pygments_lexer": "ipython3",
   "version": "3.7.3"
  }
 },
 "nbformat": 4,
 "nbformat_minor": 2
}
