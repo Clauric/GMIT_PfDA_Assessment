{
 "cells": [
  {
   "cell_type": "markdown",
   "metadata": {},
   "source": [
    "# Numpy Assignment\n",
    "\n",
    "## Module: Programming for Data Analytics\n",
    "\n",
    "#### Student Name: Mark Biggar\n",
    "#### Student number: G00376334\n",
    "\n",
    "## Assignment: \n",
    "The following assignment concerns the numpy.random package in Python. The specific tasks are:\n",
    "\n",
    "1. Explain the overall purpose of the package.\n",
    "2. Explain the use of the “Simple random data” and “Permutations” functions.\n",
    "3. Explain the use and purpose of at least five “Distributions” functions.\n",
    "4. Explain the use of seeds in generating pseudorandom numbers.\n",
    "\n",
    "## 1. Explain the overall purpose of the numpy.random package.\n",
    "\n",
    "sdfsdfvesiufvnnefvuneoiv\n",
    "\n",
    "## 2. Explain the use of the \"Simple random data\" and \"Permutations\" functions\n",
    "\n",
    "### Simple random data\n",
    "\n",
    "### Permutations\n",
    "A permutation is the all the possible arrangements of a set of numbers or objects, such that no two arrangements are the same. Numpy.random has two methods of creating permutations, numpy.random.shuffle and numpy.random.permutations. Both are alike in that they can shuffle the inputs into different orders. They also can take arrays to shuffle, and if the array is 2D, they will shuffle only along the first axis.\n",
    "\n",
    "However, there are a number of differences between the two permutation options. Numpy.random.shuffle can take lists as well as arrays. When it runs, it rearranges the array before returning the values. Numpy.random.permutation can take an integer as well as arrays. Unlike numpy.random.shuffle, .permutation creates a copy of the input, and shuffles the copy. This means that the original input, such as the array, will stay the same for each time it is run. Additionally, the shuffle option will display the returned array with commas, while the permutation option will display the returned array without commas.\n",
    "\n",
    "#### Example\n",
    "For example if we have the array of all numbers between 0 and 10 inclusive passed to both permutation options, we would get two outputs. If we also passed a range off values less than 11 into the permutations option, we would get a third output. The results will be that both approaches will generate 3 output arrays, of the same size, in different orders. "
   ]
  },
  {
   "cell_type": "code",
   "execution_count": 18,
   "metadata": {},
   "outputs": [
    {
     "name": "stdout",
     "output_type": "stream",
     "text": [
      "Shuffle: [2, 1, 10, 8, 7, 3, 6, 9, 0, 4, 5]\n",
      "Permutation (array): [ 3  9  4  6  5  0  1 10  7  8  2]\n",
      "Permutation (range): [ 7  0  4  5 10  8  3  9  6  1  2]\n"
     ]
    }
   ],
   "source": [
    "# Numpy.random shuffle and permutation\n",
    "import numpy as np\n",
    "\n",
    "# set seed to 22\n",
    "np.random.seed(22)\n",
    "\n",
    "# arrays\n",
    "arr_shuff = [0, 1, 2, 3, 4, 5, 6, 7, 8, 9, 10]\n",
    "arr_perm = [0, 1, 2, 3, 4, 5, 6, 7, 8, 9, 10]\n",
    "\n",
    "# shuffle 1\n",
    "np.random.shuffle(arr_shuff)\n",
    "print(\"Shuffle:\", arr_shuff)\n",
    "\n",
    "# permutation 1\n",
    "x = np.random.permutation(arr_perm)\n",
    "print(\"Permutation (array):\", x)\n",
    "\n",
    "#permutation 2\n",
    "x = np.random.permutation(np.arange(11))\n",
    "print(\"Permutation (range):\", x)"
   ]
  },
  {
   "cell_type": "markdown",
   "metadata": {},
   "source": [
    "### Dice throws:\n",
    "\n",
    "The throwing of multiple dice can be viewed as separate, independent events, from a statistical perspective. This means that each throw has the same chance of achieving the same result. For example, using an evenly weighted 6-sided die, the change of throwing a 1, is the same as throwing a 6. As there are 6 faces on a dice, the probability of any one number being thrown is 1/6th, or .166667%. As such, it is possible to describe the throw of a die as having a uniform probability of returning any given value.\n",
    "\n",
    "If 2 dice were thrown, both being evenly weighted, and their results added together, there are 11 possible results, from 36 possible combinations. This can be shown by writing out the results:"
   ]
  },
  {
   "cell_type": "code",
   "execution_count": 16,
   "metadata": {},
   "outputs": [
    {
     "name": "stdout",
     "output_type": "stream",
     "text": [
      "1) Roll 1: 1 Roll 2: 1 Sum: 2\n",
      "2) Roll 1: 1 Roll 2: 2 Sum: 3\n",
      "3) Roll 1: 1 Roll 2: 3 Sum: 4\n",
      "4) Roll 1: 1 Roll 2: 4 Sum: 5\n",
      "5) Roll 1: 1 Roll 2: 5 Sum: 6\n",
      "6) Roll 1: 1 Roll 2: 6 Sum: 7\n",
      "7) Roll 1: 2 Roll 2: 1 Sum: 3\n",
      "8) Roll 1: 2 Roll 2: 2 Sum: 4\n",
      "9) Roll 1: 2 Roll 2: 3 Sum: 5\n",
      "10) Roll 1: 2 Roll 2: 4 Sum: 6\n",
      "11) Roll 1: 2 Roll 2: 5 Sum: 7\n",
      "12) Roll 1: 2 Roll 2: 6 Sum: 8\n",
      "13) Roll 1: 3 Roll 2: 1 Sum: 4\n",
      "14) Roll 1: 3 Roll 2: 2 Sum: 5\n",
      "15) Roll 1: 3 Roll 2: 3 Sum: 6\n",
      "16) Roll 1: 3 Roll 2: 4 Sum: 7\n",
      "17) Roll 1: 3 Roll 2: 5 Sum: 8\n",
      "18) Roll 1: 3 Roll 2: 6 Sum: 9\n",
      "19) Roll 1: 4 Roll 2: 1 Sum: 5\n",
      "20) Roll 1: 4 Roll 2: 2 Sum: 6\n",
      "21) Roll 1: 4 Roll 2: 3 Sum: 7\n",
      "22) Roll 1: 4 Roll 2: 4 Sum: 8\n",
      "23) Roll 1: 4 Roll 2: 5 Sum: 9\n",
      "24) Roll 1: 4 Roll 2: 6 Sum: 10\n",
      "25) Roll 1: 5 Roll 2: 1 Sum: 6\n",
      "26) Roll 1: 5 Roll 2: 2 Sum: 7\n",
      "27) Roll 1: 5 Roll 2: 3 Sum: 8\n",
      "28) Roll 1: 5 Roll 2: 4 Sum: 9\n",
      "29) Roll 1: 5 Roll 2: 5 Sum: 10\n",
      "30) Roll 1: 5 Roll 2: 6 Sum: 11\n",
      "31) Roll 1: 6 Roll 2: 1 Sum: 7\n",
      "32) Roll 1: 6 Roll 2: 2 Sum: 8\n",
      "33) Roll 1: 6 Roll 2: 3 Sum: 9\n",
      "34) Roll 1: 6 Roll 2: 4 Sum: 10\n",
      "35) Roll 1: 6 Roll 2: 5 Sum: 11\n",
      "36) Roll 1: 6 Roll 2: 6 Sum: 12\n"
     ]
    }
   ],
   "source": [
    "#Code to print out all combinations of 2 dice being thrown, and their product\n",
    "\n",
    "# Count of rolles\n",
    "Count = 1\n",
    "\n",
    "# Die 1\n",
    "i = 1\n",
    "\n",
    "# For all possible values of die 1\n",
    "while i <= 6:\n",
    "    \n",
    "    # Die 2\n",
    "    j = 1\n",
    "    \n",
    "    # For all possible values of die 2\n",
    "    while j <= 6:\n",
    "        \n",
    "        # Print out the combination of dice 1 and 2, and their product\n",
    "        print (Count, \") Roll 1: \", i, \" Roll 2: \", j, \" Sum: \",i+j, sep='')\n",
    "        \n",
    "        # Increment die 2 by 1\n",
    "        j += 1\n",
    "        Count +=1\n",
    "    \n",
    "    # Increment die 1 by 1\n",
    "    i += 1"
   ]
  },
  {
   "cell_type": "markdown",
   "metadata": {},
   "source": [
    "As can be seen from the above, there are 36 possible combinations, but only 11 values (2 - 12). There is only 1 possible combination of dice throws that lead to a value of 2. Likewise, for 12. For all other values, there are at least 2 combinations of of dice throws that lead to the sum (i.e. the sum of 5 can be made from throws of (1,4), (2,3), (3,2), and (4,1). From the data above, we can see that 7 has 6 possible combinations, and therefore has 6/36 (1 in 6) probablity of being thrown. All other values have a lesser chance of being thrown.\n",
    "\n",
    "Obviously, calculating the probablity of throwing 2 dice being thrown is relatively easy to calculate by hand. However, if the number dice being thrown was to increase, to say 4 dice, then the number of results (from adding the results of the 4 dice throws together) increase to 20, with the lower and uper bounds being 4 (1+1+1+1) and 24 (6+6+6+6). The number of combinations increase from 36 to 1,296 (6x6x6x6). This can cause problems for hand calculations, and for testing. \n",
    "\n",
    "Testing of the various combinations can cause problems. In a test thrown, each number has the same chance of being thrown. However, as each throw is independent, and the die contains no memory, it is possible for the same number of appear in sequential throws. If a small sample (<50) is run, it is possible that the sum of the two dice will not return 7 as being the moxst common result. As such, larger tests (>1000) are required, in order to remove a series of very low or high numbers from affecting the results.\n",
    "\n",
    "In order to test the hypothesis, through running multiple simulations of the same data, numpy's random distribution functions can be used.\n",
    "\n",
    "In the cases below, all distributions are being simulated as running with 2 dice."
   ]
  },
  {
   "cell_type": "code",
   "execution_count": null,
   "metadata": {},
   "outputs": [],
   "source": [
    "import numpy as np\n",
    "import matplotlib.pyplot as plt\n",
    "\n",
    "N = 100000\n",
    "heads = np.zeros(N, dtype=int)\n",
    "for i in range(N):\n",
    "    heads[i] = np.random.randint(1, 7, 2).sum()\n",
    "heads\n",
    "\n",
    "plt.stem(np.bincount(heads), linefmt ='--', markerfmt='blue', use_line_collection=True, label=\"RandInt Dist\")\n",
    "plt.margins(0.1)"
   ]
  },
  {
   "cell_type": "code",
   "execution_count": null,
   "metadata": {},
   "outputs": [],
   "source": [
    "import numpy as np\n",
    "import matplotlib.pyplot as plt\n",
    "\n",
    "x = np.random.randint(1,7, size = 100000)\n",
    "y = np.random.randint(1,7, size = 100000)\n",
    "\n",
    "plt.hist(x + y)\n",
    "plt.show()"
   ]
  },
  {
   "cell_type": "code",
   "execution_count": null,
   "metadata": {},
   "outputs": [],
   "source": [
    "import numpy as np\n",
    "import matplotlib.pyplot as plt\n",
    "\n",
    "values = np.arange(start=1,stop=7)\n",
    "z = 1/6\n",
    "x = np.random.choice(values, 1000000, p=[z, z, z, z, z, z])\n",
    "y = np.random.choice(values, 1000000, p=[z, z, z, z, z, z])\n",
    "\n",
    "plt.bar(*np.unique(x+y, return_counts=True), color=\"green\", edgecolor='black', label=\"Choice Dist\")\n",
    "plt.xticks(np.arange(start=2, stop = 13))\n",
    "plt.show()"
   ]
  },
  {
   "cell_type": "code",
   "execution_count": 10,
   "metadata": {},
   "outputs": [
    {
     "data": {
      "image/png": "[encoded data removed]",
      "text/plain": [
       "<Figure size 432x288 with 1 Axes>"
      ]
     },
     "metadata": {
      "needs_background": "light"
     },
     "output_type": "display_data"
    }
   ],
   "source": [
    "# Distribution of sum of throwing 2 dice\n",
    "\n",
    "import numpy as np\n",
    "import matplotlib.pyplot as plt\n",
    "\n",
    "# set random seed to 22\n",
    "np.random.seed(22)\n",
    "\n",
    "# number of events to run\n",
    "N = 10000\n",
    "\n",
    "# set range of values for startign at 1, and ending at the integer before 7\n",
    "values = np.arange(start = 1, stop = 7)\n",
    "\n",
    "# set probabilities for choice\n",
    "z = 1/6\n",
    "\n",
    "# Dice 1: using random.choice, with values, number of events, and probability for each value\n",
    "a = np.random.choice(values, N, p=[z, z, z, z, z, z])\n",
    "\n",
    "# Dice 2: using random.choice, with values, number of events, and probability for each value\n",
    "b = np.random.choice(values, N, p=[z, z, z, z, z, z])\n",
    "\n",
    "# plot bar chart using np.unique, where the sum of the arrays is calculated, and the number of returns for each value is shown\n",
    "# colour set to yellow, labelled, and width set to 1 for visualisation\n",
    "plt.bar(*np.unique(a + b, return_counts=True), color=\"yellow\", edgecolor='black', label=\"Choice Dist\", width= 1.0)\n",
    "\n",
    "# set array of shape 1 x N for heads\n",
    "heads = np.zeros(N, dtype=int)\n",
    "\n",
    "# for each integer in N\n",
    "for i in range(N):\n",
    "    \n",
    "    # place the integer generated by random.randint().sum into the array \"heads\"\n",
    "    # random.randint has values starting at 1, and ending at the last integer before 7, and a size of 1 x 2\n",
    "    # .sum instructs the two values generated by random.randint to be summed together\n",
    "    heads[i] = np.random.randint(1, 7, 2).sum()\n",
    "heads\n",
    "\n",
    "# plot stem chart using np.bincount and heads, with a lineformat of \"--\", black lines, and a label\n",
    "plt.stem(np.bincount(heads), linefmt ='--', markerfmt='black', use_line_collection=True, label=\"RandInt Dist\")\n",
    "\n",
    "plt.margins(y=0.1)\n",
    "\n",
    "# plot the ticks on x-axis, starting at 0, and ending before 13\n",
    "plt.xticks(np.arange(start=0, stop = 13))\n",
    "\n",
    "plt.grid(b=True, axis=\"y\")\n",
    "\n",
    "# plot legend\n",
    "plt.legend()\n",
    "\n",
    "# show plot\n",
    "plt.show()"
   ]
  },
  {
   "cell_type": "markdown",
   "metadata": {},
   "source": [
    "## 3. Explain the use and purpose of at least 5 \"Distribution\" functions\n",
    "\n",
    "The purpose of distribution functions, in general, is to produce a set of results, based on a particular set of parameters that are predefined. At its most basic, distribution functions are used to calculate the statistical probability of an event occurring, based on statistical models such as binomial, Dirichlet, log, normal, or uniform distribution patterns. \n",
    "\n",
    "The statistical probability of an event, or set of events occurring, is of great use in various industries and activities through the world. The most obvious is the gambling industry, where odds are the representation of the statistical probability of the event occurring. The shorter the odds, the more likely an event is to occur (Note: that unlike in pure statistical probability, where the sum of all events must be equal to 1, the odds offered by gambling companies are generally weighted slightly, to allow for a house margin, and the expected volume of betting on the favourites). \n",
    "\n",
    "Other areas where statistical probability is widely used are risk (financial, insurance, credit, etc.), engineering, health care (epidemiology, pharmacology, etc.), manufacturing (logistics, supply and demand forecasting, etc.), and government policy, among others.\n",
    "\n",
    "It is intended to review the 5 chosen distribution functions using the throw of 2 dice, and model the distribution functions over 100,000 iterations. This modeling is known as Monte Carlo simulations, and with such a large size, allow dor the removal of skewness caused by outlier results.\n",
    "\n",
    "The selected distributions are:\n",
    "* *np.random.uniform*\n",
    "* *np.random.poisson*\n",
    "* *np.random.multinomial*\n",
    "* *np.random.binomial*\n",
    "* *np.random.normal*\n",
    "\n",
    "### Numpy.random.uniform\n",
    "\n",
    "The numpy.random.uniform "
   ]
  },
  {
   "cell_type": "code",
   "execution_count": 12,
   "metadata": {},
   "outputs": [
    {
     "data": {
      "image/png": "[encoded data removed]",
      "text/plain": [
       "<Figure size 432x288 with 1 Axes>"
      ]
     },
     "metadata": {
      "needs_background": "light"
     },
     "output_type": "display_data"
    }
   ],
   "source": [
    "import numpy as np\n",
    "import matplotlib.pyplot as plt\n",
    "\n",
    "low = 1\n",
    "high = 6.00000000000000001\n",
    "\n",
    "np.random.seed(22)\n",
    "\n",
    "x = np.random.uniform(low, high,100000)\n",
    "y = np.random.uniform(low, high,100000)\n",
    "\n",
    "plt.hist(x+y)\n",
    "plt.xticks(np.arange(start=2, stop = 13))\n",
    "plt.show()"
   ]
  },
  {
   "cell_type": "markdown",
   "metadata": {},
   "source": [
    "### Normal distribution:\n",
    "\n",
    "The normal distribution is a probability function that describes the pattern of distribution of a variable’s values. It is unique in that it is symmetrical around a mean, that also the mode and median of the possible values. The possible values of the variable cluster around this mean, with 68.2% of all results within 1 standard deviation of either side of the mean, and 95% of all values with 2 standard deviations of the mean. Additionally, due to the symmetry, and the known properties of a normal distribution, there exists tables (z-tables), which can be used to calculate the standard deviation or confidence interval of any value returned, based on the mean.\n",
    "\n",
    "It also has the property that all values within the range negative infinity to positive infinity are possible (i.e. continuous variable), although the further away from the mean the less likely the value. For most practical purposes, the lower bound of the range is normally zero, but not always.\n",
    "\n",
    "Numpy.random.normal is the method of generating random variables which are normally distributed. The function takes the variables of:\n",
    "\n",
    "* *loc* which is defined as mu (μ) or the mean/mode/median of the distribution. This is normally a float, or decimal number, although it can be an array.\n",
    "* *scale* which is defined as sigma (σ) or the standard deviation of the distribution. This is normally a float, or decimal number, although it can be an array.\n",
    "* *size* which is the shape of the output, being either a single value, a 2D array, or a 3D array. By default, it returns a single value.\n",
    "\n",
    "The return of the normal distribution is determined by the parameters passed into the function.\n",
    "\n",
    "As normal distributions are found in various probabilities, such as heights of persons, or stock market returns, IQ levels, and income levels in a given economy. This is especially important in such activities like risk analysis, where potential losses can be estimated.\n",
    "\n",
    "#### Example:\n",
    "For example, if a stock market has an average return over a given year is 5%, the standard deviation is 2%, it is possible to estimate the potential loss to a portfolio for the year. Any return less than 0 can be determined, and using the z-tables, the risk can be determined. This is the basis of the concept of value-at-risk.\n"
   ]
  },
  {
   "cell_type": "code",
   "execution_count": 13,
   "metadata": {},
   "outputs": [
    {
     "data": {
      "image/png": "[encoded data removed]",
      "text/plain": [
       "<Figure size 432x288 with 1 Axes>"
      ]
     },
     "metadata": {
      "needs_background": "light"
     },
     "output_type": "display_data"
    }
   ],
   "source": [
    "# Normal distribution for example\n",
    "\n",
    "import numpy as np\n",
    "import matplotlib.pyplot as plt\n",
    "\n",
    "# set random seed to 22\n",
    "np.random.seed(22)\n",
    "\n",
    "# mu or mean for the return for a given year is 5%, or 0.05.\n",
    "mu = 0.05\n",
    "\n",
    "# sigma or standard deviation for the return for a given year is 2%, or 0.02.\n",
    "sigma = 0.02\n",
    "\n",
    "# normal function, generating an 1 x 10,000 array\n",
    "x = np.random.normal(mu, sigma, 10000)\n",
    "\n",
    "# plotting the array on a histogram\n",
    "# color set to black, labelled\n",
    "plt.hist(x, color=\"black\", label=\"Normal distribution\")\n",
    "\n",
    "# show legend in plot\n",
    "plt.legend()\n",
    "\n",
    "# show girdlines on x axis\n",
    "plt.grid(b=True, axis=\"x\")\n",
    "\n",
    "# show plot\n",
    "plt.show()"
   ]
  },
  {
   "cell_type": "markdown",
   "metadata": {},
   "source": [
    "### numpy.random.binomial\n",
    "\n",
    "A binomial probability can be viewed as the probability associated with whether an event is a success or failure (hence the “bi” in binomial). Binomial probabilities can be applied to multiple events in a row, as long the probabilities do not change from one event to the next (i.e. no memory in the events). If the results of a previous event influence the results of a subsequent event, then the results are considered hypergeometric, and not binomial.\n",
    "\n",
    "The binomial probabilities form discrete returns which are often represented using a histogram. However, it is not uncommon to see a binomial distribution being represented by a curved chart. The curve connects the top of the stems, to give the impression of a continuous plot, but this in not normally viewed as correct.\n",
    "\n",
    "Unlike the normal distribution, the mean, mode, and median, as well as the standard deviation can differ considerably. Using  the general formula of a binomial distribution as:\n",
    "\n",
    "  (N!/(n!(N-n)!))p<sup>n</sup>q<sup>(N-n)</sup> \n",
    "\n",
    "Where:\n",
    "\n",
    "* N = the number of trials/events being run.\n",
    "* n = the trial being tested.\n",
    "* p = the probability of success.\n",
    "* q = the probability of failure (often represented as 1 – p).\n",
    "\n",
    "The mean (mu) is then calculated as N x p,  and the standard deviation (sigma) is given as . There are 2 modes, depending on the value of p. The median is more difficult to determine, due to the values of p and N, but normally lies near to the value of the mean.\n",
    "\n",
    "The numpy.random.binomial distribution is made up of 3 parameters:\n",
    "\n",
    "* n: the trial being tested. This can be a float, or integer, but floats will be truncated to integers.\n",
    "* p: the probability of success, represented as a float between 0 and 1, inclusive.\n",
    "* size: the number of times the event is tested.\n",
    "\n",
    "The values returned can be a single value, if n and p are both single values, else an array will be returned.\n",
    "\n",
    "Binomial probabilities can be used to calculate a large number of scenarios. The range of scenarios is limited only by the ability to define the success or failure of an event. These scenarios are often applied to such events as coin tosses, gambling, as well as decision trees in for machine learning, and business applications.\n",
    "\n",
    "#### Example:\n",
    "\n",
    "For example, if a person were to have an evenly balance coin, that has a probability of 48% of landing on heads, it is possible to predict how many times it would land heads-up, in 100 flips, being tested 1000 times. Using np.random.binomial, we would assign N=100, p=0.48, and size=1000. (Aside: the probability of a coin landing head-up or down is not 50/50, due to the fact that there is an edge on most coins. This will reduce the probability to less than 50%. In this example, the reduction is emphsised).\n",
    "\n",
    "This would generate the probability as follows:"
   ]
  },
  {
   "cell_type": "code",
   "execution_count": 16,
   "metadata": {},
   "outputs": [
    {
     "data": {
      "image/png": "[encoded data removed]",
      "text/plain": [
       "<Figure size 432x288 with 1 Axes>"
      ]
     },
     "metadata": {
      "needs_background": "light"
     },
     "output_type": "display_data"
    }
   ],
   "source": [
    "# Binomial distribution example\n",
    "\n",
    "import numpy as np\n",
    "import matplotlib.pyplot as plt\n",
    "\n",
    "# set random seed to 22\n",
    "np.random.seed(22)\n",
    "\n",
    "# number of trials\n",
    "n = 100\n",
    "\n",
    "# probability\n",
    "p = 0.48\n",
    "\n",
    "# number of trials\n",
    "s = 1000\n",
    "\n",
    "# run the binmomial distribution\n",
    "x = np.random.binomial(n,p, size=s)\n",
    "\n",
    "# plot for the binomial \n",
    "plt.hist(x, label=\"Binomial distribution\", color=\"red\", edgecolor=\"black\")\n",
    "\n",
    "# show legend in plot\n",
    "plt.legend()\n",
    "\n",
    "# show girdlines on y axis\n",
    "plt.grid(b=True, axis=\"y\")\n",
    "\n",
    "# plot ticks from 0 - 100, in increments of 5 for x axis\n",
    "# plot ticks from 0 - 250, in increments of 50 for y axis\n",
    "plt.xticks(np.arange(start=0, stop=101, step=5))\n",
    "plt.yticks(np.arange(start=0, stop=300, step=50))\n",
    "\n",
    "# show plot\n",
    "plt.show()"
   ]
  },
  {
   "cell_type": "markdown",
   "metadata": {},
   "source": [
    "## Bibliography\n",
    "* HADRIENJ, 2019. Deep Learning Book Series 3.1 to 3.3 Probability Mass and Density Functions. [Online] Available at: https://hadrienj.github.io/posts/Probability-Mass-and-Density-Functions/ [Accessed 23 October 2019].\n",
    "* Holton, G. A., 2014. Value-at-Risk. 2nd ed. s.l.:s.n.\n",
    "* Li, W., 2016. Value at Risk (VaR) and its calculations: an overview. [Online] Available at: http://web.mst.edu/~huwen/teaching_VaR_Weiqian_Li.pdf [Accessed 1 November 2019].\n",
    "* Oathak, M., 2018. Probability Distributions in Python. [Online] Available at: https://www.datacamp.com/community/tutorials/probability-distributions-python [Accessed 23 October 2019].\n",
    "* Sharp Sight, 2019. How to numpy random choice. [Online] Available at: https://www.sharpsightlabs.com/blog/numpy-random-choice [Accessed 1 November 2019]."
   ]
  },
  {
   "cell_type": "code",
   "execution_count": null,
   "metadata": {},
   "outputs": [],
   "source": []
  }
 ],
 "metadata": {
  "kernelspec": {
   "display_name": "Python 3",
   "language": "python",
   "name": "python3"
  },
  "language_info": {
   "codemirror_mode": {
    "name": "ipython",
    "version": 3
   },
   "file_extension": ".py",
   "mimetype": "text/x-python",
   "name": "python",
   "nbconvert_exporter": "python",
   "pygments_lexer": "ipython3",
   "version": "3.7.3"
  }
 },
 "nbformat": 4,
 "nbformat_minor": 2
}
